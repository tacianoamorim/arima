{
  "nbformat": 4,
  "nbformat_minor": 0,
  "metadata": {
    "colab": {
      "name": "ProjetoSerieTemporal",
      "provenance": [],
      "collapsed_sections": [
        "EZAXYZSj9Vgd"
      ],
      "mount_file_id": "1bb33Iv-wD4RA0QlrJM-iScvHdVqYHHxC",
      "authorship_tag": "ABX9TyPdCVo8/yLQJ6xSxeAIhmkP",
      "include_colab_link": true
    },
    "kernelspec": {
      "display_name": "Python 3",
      "name": "python3"
    },
    "language_info": {
      "name": "python"
    }
  },
  "cells": [
    {
      "cell_type": "markdown",
      "metadata": {
        "id": "view-in-github",
        "colab_type": "text"
      },
      "source": [
        "<a href=\"https://colab.research.google.com/github/tacianoamorim/arima/blob/main/ProjetoSerieTemporal.ipynb\" target=\"_parent\"><img src=\"https://colab.research.google.com/assets/colab-badge.svg\" alt=\"Open In Colab\"/></a>"
      ]
    },
    {
      "cell_type": "markdown",
      "metadata": {
        "id": "ugNvlkh3DPhL"
      },
      "source": [
        "# PROJETO DISCIPLINA SÉRIES TEMPORAIS\n",
        "\n",
        "Construa uma função que receba os dados de uma série temporal e vá construindo o processo de determinação de modelo.\n",
        "\n",
        "A ferramenta:\n",
        "* recebe os dados\n",
        "* construir a funções de autocorrelação e autocorrelação parcial\n",
        "* informar a quantidade de diferenças (autocorrelação e autocorrelação parcial, ...)\n",
        "* clicar nos modelos determinados  \n",
        "* calcula a massverosemelhança dos coeficientes de todos os modelos selecionados em relação a base de dados\n",
        "* Mostra todos os valores calculados\n",
        "* E a partir disso apresenta dois diagnosticos indicando quais foram aprovados ou não.\n",
        "\n"
      ]
    },
    {
      "cell_type": "markdown",
      "metadata": {
        "id": "NYk_oAQuQSWV"
      },
      "source": [
        ""
      ]
    },
    {
      "cell_type": "markdown",
      "metadata": {
        "id": "ZX5kUFuNJ-Wb"
      },
      "source": [
        "## Carregado funções"
      ]
    },
    {
      "cell_type": "code",
      "metadata": {
        "id": "iLmfjdpi-mKg",
        "colab": {
          "base_uri": "https://localhost:8080/"
        },
        "outputId": "480fe9ee-d64d-45ad-c775-f7777e4d746c"
      },
      "source": [
        "!pip install yahooquery"
      ],
      "execution_count": null,
      "outputs": [
        {
          "output_type": "stream",
          "name": "stdout",
          "text": [
            "Requirement already satisfied: yahooquery in /usr/local/lib/python3.7/dist-packages (2.2.15)\n",
            "Requirement already satisfied: requests-futures>=1.0.0 in /usr/local/lib/python3.7/dist-packages (from yahooquery) (1.0.0)\n",
            "Requirement already satisfied: lxml>=4.6.2 in /usr/local/lib/python3.7/dist-packages (from yahooquery) (4.7.1)\n",
            "Requirement already satisfied: pandas>=0.24.0 in /usr/local/lib/python3.7/dist-packages (from yahooquery) (1.1.5)\n",
            "Requirement already satisfied: tqdm>=4.54.1 in /usr/local/lib/python3.7/dist-packages (from yahooquery) (4.62.3)\n",
            "Requirement already satisfied: pytz>=2017.2 in /usr/local/lib/python3.7/dist-packages (from pandas>=0.24.0->yahooquery) (2018.9)\n",
            "Requirement already satisfied: numpy>=1.15.4 in /usr/local/lib/python3.7/dist-packages (from pandas>=0.24.0->yahooquery) (1.19.5)\n",
            "Requirement already satisfied: python-dateutil>=2.7.3 in /usr/local/lib/python3.7/dist-packages (from pandas>=0.24.0->yahooquery) (2.8.2)\n",
            "Requirement already satisfied: six>=1.5 in /usr/local/lib/python3.7/dist-packages (from python-dateutil>=2.7.3->pandas>=0.24.0->yahooquery) (1.15.0)\n",
            "Requirement already satisfied: requests>=1.2.0 in /usr/local/lib/python3.7/dist-packages (from requests-futures>=1.0.0->yahooquery) (2.23.0)\n",
            "Requirement already satisfied: chardet<4,>=3.0.2 in /usr/local/lib/python3.7/dist-packages (from requests>=1.2.0->requests-futures>=1.0.0->yahooquery) (3.0.4)\n",
            "Requirement already satisfied: idna<3,>=2.5 in /usr/local/lib/python3.7/dist-packages (from requests>=1.2.0->requests-futures>=1.0.0->yahooquery) (2.10)\n",
            "Requirement already satisfied: urllib3!=1.25.0,!=1.25.1,<1.26,>=1.21.1 in /usr/local/lib/python3.7/dist-packages (from requests>=1.2.0->requests-futures>=1.0.0->yahooquery) (1.24.3)\n",
            "Requirement already satisfied: certifi>=2017.4.17 in /usr/local/lib/python3.7/dist-packages (from requests>=1.2.0->requests-futures>=1.0.0->yahooquery) (2021.10.8)\n"
          ]
        }
      ]
    },
    {
      "cell_type": "code",
      "metadata": {
        "id": "ZrmUPvh6AUyH"
      },
      "source": [
        "#importando as bibliotecas\n",
        "import numpy as np\n",
        "from numpy.ma.core import append\n",
        "import pandas as pd\n",
        "import math\n",
        "\n",
        "from yahooquery import Ticker\n",
        "from flask import Flask, jsonify\n",
        "import yahooquery as yq\n",
        "from datetime import datetime, timedelta\n",
        "\n",
        "import plotly.graph_objects as go\n",
        "import matplotlib.pyplot as plt\n",
        "from statsmodels.graphics.tsaplots import plot_pacf\n",
        "import matplotlib.pyplot as plt\n",
        "\n",
        "import warnings\n",
        "import json\n",
        "import types\n",
        "warnings.filterwarnings(\"ignore\")\n",
        "\n",
        "import statsmodels.api as sm\n",
        "from statsmodels.tsa.stattools import acf, pacf, kpss\n",
        "from sklearn import linear_model\n",
        "\n",
        "from google.colab import files"
      ],
      "execution_count": null,
      "outputs": []
    },
    {
      "cell_type": "code",
      "metadata": {
        "id": "UqxCMBmlENZg"
      },
      "source": [
        "#\n",
        "# Recupera os dados de uma acao\n",
        "#\n",
        "def history(ticker, dateStart, dateEnd, interval):\n",
        "    tk = Ticker(ticker+\".sa\")\n",
        "    return tk.history(start= dateStart, end= dateEnd, interval= interval)"
      ],
      "execution_count": null,
      "outputs": []
    },
    {
      "cell_type": "code",
      "metadata": {
        "id": "j0KyYSDtcDWl"
      },
      "source": [
        "#\n",
        "# Converte um dataframe em matriz com todos os elementos recuperados\n",
        "#\n",
        "def convertToMatrizCompleto(df):\n",
        "  vetor= []\n",
        "  for i in range(len(df)):\n",
        "    vetor.append([df.iloc[i].name[1].strftime(\"%Y-%m-%d, %H:%M:%S\"), df.iloc[i, df.columns.get_loc('close')], df.iloc[i, df.columns.get_loc('high')], df.iloc[i, df.columns.get_loc('low')], df.iloc[i, df.columns.get_loc('open')], df.iloc[i, df.columns.get_loc('volume')]])\n",
        "  return vetor"
      ],
      "execution_count": null,
      "outputs": []
    },
    {
      "cell_type": "code",
      "source": [
        "#\n",
        "# Converte um dataframe em um vetor de precos\n",
        "#\n",
        "def _convertToVetorPreco(df):\n",
        "  vetor= []\n",
        "  for i in range(len(df)):\n",
        "    vetor.append(df.iloc[i, df.columns.get_loc('close')])\n",
        "  return vetor"
      ],
      "metadata": {
        "id": "V1N4p6TLMGyu"
      },
      "execution_count": null,
      "outputs": []
    },
    {
      "cell_type": "code",
      "metadata": {
        "id": "qraYpW_QBB93"
      },
      "source": [
        "#\n",
        "# Converte uma matriz em um dataframe\n",
        "#\n",
        "def convertToDF(matriz):\n",
        "  column_names = [\"date\", \"close\",\"high\", \"low\", \"open\", \"volume\"]\n",
        "  data_df = pd.DataFrame(matriz, columns=column_names)\n",
        "  return data_df"
      ],
      "execution_count": null,
      "outputs": []
    },
    {
      "cell_type": "code",
      "metadata": {
        "id": "HejF2qNbNS-f"
      },
      "source": [
        "#\n",
        "# Realiza o tratamento no dataframe\n",
        "#\n",
        "def trataDf(df):\n",
        "  ma= convertToMatrizCompleto(df)\n",
        "\n",
        "  idx = (len(df)-11)\n",
        "  while idx > (len(df)-11):\n",
        "    ma.pop(idx)\n",
        "    idx = idx - 1  \n",
        "\n",
        "  # Converter para Matrix\n",
        "  df= convertToDF(ma)\n",
        "  \n",
        "  return df"
      ],
      "execution_count": null,
      "outputs": []
    },
    {
      "cell_type": "code",
      "metadata": {
        "id": "THfLC-q1QI14"
      },
      "source": [
        "#\n",
        "# Plota gráfico\n",
        "#\n",
        "def _plotarGrafico(df_fec, title):\n",
        "  #Plotar informacao\n",
        "  plt.figure(figsize=(6,3))\n",
        "  plt.title(title)\n",
        "  plt.plot(df_fec['close'])\n",
        "  plt.xlabel('data') \n",
        "  return \"\" "
      ],
      "execution_count": 249,
      "outputs": []
    },
    {
      "cell_type": "code",
      "metadata": {
        "id": "X_5BRF-cPnhS"
      },
      "source": [
        "#\n",
        "# Realiza o tratamento no dataframe\n",
        "#\n",
        "def _tratarDados(df):\n",
        "  df= trataDf(df)\n",
        "\n",
        "  #Seleciona os campos \n",
        "  df_fec = df[ ['date', 'close'] ] \n",
        "\n",
        "  # Ajustar o indices\n",
        "  dfIdx = df_fec.copy()\n",
        "  dfIdx = dfIdx.set_index(pd.DatetimeIndex(dfIdx['date'].values))\n",
        "\n",
        "  # Retirar a coluna\n",
        "  dfIdx.drop('date', axis=1, inplace=True)\n",
        "  df.drop('date', axis=1, inplace=True)\n",
        "  \n",
        "  return df_fec, dfIdx"
      ],
      "execution_count": null,
      "outputs": []
    },
    {
      "cell_type": "code",
      "source": [
        "#\n",
        "# Realiza o KPSS test\n",
        "#\n",
        "def _kpss_test(series, **kw):    \n",
        "  statistic, p_value, n_lags, critical_values = kpss(series, **kw)\n",
        "  return p_value"
      ],
      "metadata": {
        "id": "xLInhu3hNZzV"
      },
      "execution_count": null,
      "outputs": []
    },
    {
      "cell_type": "code",
      "source": [
        "#\n",
        "# Realiza o Portmanteau Test\n",
        "#\n",
        "def _calcPortmanteau(df):\n",
        "  # Qtde elementos\n",
        "  n= len(df)\n",
        "\n",
        "  # Calcula o erro padrao\n",
        "  erroPadrao= 1 / math.sqrt(n)\n",
        "\n",
        "  # Calcula o de rk(â)\n",
        "  arrayRK= []\n",
        "  for i in n:\n",
        "    arrayRK= arrayRK+i\n",
        "\n",
        "  # Utiliza as primeiras autocorrelacoes\n",
        "  k= 25\n",
        "\n",
        "  # Calcula o valor de Q\n",
        "  Q = n(n+2)* (n-k)**-1\n",
        "  return 0"
      ],
      "metadata": {
        "id": "VjrISfmkA0W-"
      },
      "execution_count": null,
      "outputs": []
    },
    {
      "cell_type": "code",
      "source": [
        "def _estimativaAutocorrelacao(x):\n",
        "    \"\"\"\n",
        "    http://stackoverflow.com/q/14297012/190597\n",
        "    http://en.wikipedia.org/wiki/Autocorrelation#Estimation\n",
        "    \"\"\"\n",
        "    n = len(x)\n",
        "    variance = x.var()\n",
        "    x = x-x.mean()\n",
        "    r = np.correlate(x, x, mode = 'full')[-n:]\n",
        "    assert np.allclose(r, np.array([(x[:n-k]*x[-(n-k):]).sum() for k in range(n)]))\n",
        "    result = r/(variance*(np.arange(n, 0, -1)))\n",
        "\n",
        "    return result"
      ],
      "metadata": {
        "id": "CuVFmt44ysGL"
      },
      "execution_count": null,
      "outputs": []
    },
    {
      "cell_type": "code",
      "source": [
        "#\n",
        "# Calcula a autocovariancia de acordo com a ordem\n",
        "#\n",
        "def _getAutoCovariancia(xVetor, desvio, ordem):\n",
        "  produto= np.array([])\n",
        "\n",
        "  # calculo da autocovariancia\n",
        "  autocovariancia= 0\n",
        "  for i in range(len(desvio)):\n",
        "    if i < ordem:\n",
        "      produto= np.append(produto, 0)\n",
        "    else:\n",
        "      produto= np.append(produto, desvio[i] * desvio[i-ordem])\n",
        "\n",
        "  autocovariancia= produto.sum() / qtdeElementos\n",
        "  return autocovariancia"
      ],
      "metadata": {
        "id": "ZRpLzSyDSCvY"
      },
      "execution_count": 254,
      "outputs": []
    },
    {
      "cell_type": "code",
      "source": [
        "#\n",
        "# Calcula a autocorrelacao\n",
        "#\n",
        "def _getAutoCorrelacao(autocovariancia0, autocovariancia1):\n",
        "  autocorrelacao= autocovariancia1 / autocovariancia0\n",
        "  return autocorrelacao"
      ],
      "metadata": {
        "id": "c1317akgR0Mi"
      },
      "execution_count": null,
      "outputs": []
    },
    {
      "cell_type": "code",
      "source": [
        "\n",
        "#\n",
        "# Calcula a PACF\n",
        "#\n",
        "def _PACF(df, qtdeLag):\n",
        "  dfT= df.head()\n",
        "\n",
        "  # Cria as colunas para armazenar os valores correspondentes\n",
        "  dfT['T0'] = dfT['close']\n",
        "  for i in range(qtdeLag):\n",
        "    dfT['T'+ str(i+1)] = dfT['close'].shift(i)\n",
        "\n",
        "  # Remove os NA's\n",
        "  dfT = dfT.dropna()\n",
        "  \n",
        "  # calculando a previsao\n",
        "  idx= 0\n",
        "  dfx= 0.0\n",
        "  dfy= 0.0\n",
        "  for i in range(qtdeLag):\n",
        "    dfx= 0.0\n",
        "    dfy= 0.0\n",
        "    lml = linear_model.LinearRegression()\n",
        "    dfx = dfT[['T'+str(i+1)]] \n",
        "    dfy = dfT[['T'+str(i)]] \n",
        "    model = lml.fit(dfx,dfy)\n",
        "    dfT['Predicted_T'+str(i)+'_T'+ str(i+1)] = lml.predict(dfx)\n",
        "    dfT['Residual_T'+str(i)+'_T'+str(i+1)] = dfT['T'+str(i)] - dfT['Predicted_T'+str(i)+'_T'+str(i+1)]\n",
        "  \n",
        "  #print(pacf(dfT['T0'], nlags=qtdeLag)[2])\n",
        "  ##print(dfT.corr(method='pearson')[1])\n",
        "  #print(dfT.corr(method='pearson')['Residual_T0_T1']['Residual_T1_T2'])\n",
        "  #Residual_Ti-0_Ti-1\tPredicted_Ti-1_Ti-2\tResidual_Ti-1_Ti-2\tPredicted_Ti-2_Ti-3\tResidual_Ti-2_Ti-3\n",
        "  #print(pacf(dfT['T0'], nlags=2)[2])\n",
        "  return dfT\n",
        "\n",
        "#df = pd.DataFrame(history(\"PETR4\",\"2020-12-01\",\"2021-12-01\",\"1d\"))\n",
        "#df, dfIdx= _tratarDados(df)  \n",
        "#dft = _PACF(df, 5)\n",
        "#dft"
      ],
      "metadata": {
        "id": "P45BE3JqWblC"
      },
      "execution_count": null,
      "outputs": []
    },
    {
      "cell_type": "markdown",
      "metadata": {
        "id": "Nn3tYTHBEB2x"
      },
      "source": [
        "## MAIN"
      ]
    },
    {
      "cell_type": "code",
      "source": [
        "print(\"----------------- Identificação da série utilizada --------------------\")\n",
        "df = pd.DataFrame(history(\"PETR4\",\"2020-12-01\",\"2021-12-01\",\"1d\"))\n",
        "df, dfIdx= _tratarDados(df)\n",
        "print(dfIdx.head())\n",
        "\n",
        "# uploaded = files.upload()\n",
        "# for fn in uploaded.keys():\n",
        "#   print('User uploaded file \"{name}\" with length {length} bytes'.format(\n",
        "#      name=fn, length=len(uploaded[fn])))\n",
        "# print(uploaded)\n",
        "# dfEE = pd.read_csv(\"/content/dataset.txt\")\n",
        "# print(dfEE.head())\n",
        "_plotarGrafico(dfIdx, \"Ações PETR4 (01/12/2020 - 01/12/2021)\")\n"
      ],
      "metadata": {
        "colab": {
          "base_uri": "https://localhost:8080/",
          "height": 532
        },
        "id": "Hz9aSdZbsrna",
        "outputId": "a14b30be-768a-4c86-900d-7105fec3e8f1"
      },
      "execution_count": 250,
      "outputs": [
        {
          "output_type": "stream",
          "name": "stdout",
          "text": [
            "----------------- Identificação da série utilizada --------------------\n",
            "                close\n",
            "2020-12-01  25.600000\n",
            "2020-12-02  25.910000\n",
            "2020-12-03  26.639999\n",
            "2020-12-04  27.530001\n",
            "2020-12-07  27.000000\n"
          ]
        },
        {
          "output_type": "execute_result",
          "data": {
            "application/vnd.google.colaboratory.intrinsic+json": {
              "type": "string"
            },
            "text/plain": [
              "''"
            ]
          },
          "metadata": {},
          "execution_count": 250
        },
        {
          "output_type": "display_data",
          "data": {
            "image/png": "[encoded data removed]",
            "text/plain": [
              "<Figure size 720x360 with 1 Axes>"
            ]
          },
          "metadata": {
            "needs_background": "light"
          }
        }
      ]
    },
    {
      "cell_type": "markdown",
      "source": [
        "Calcula a média e o desvio padrão"
      ],
      "metadata": {
        "id": "TRvPMF0hnU5b"
      }
    },
    {
      "cell_type": "code",
      "source": [
        "# Converte o df em array para facilitar os cálculos\n",
        "vClose= _convertToVetorPreco(df)\n",
        "\n",
        "qtdeElementos= len(vClose)\n",
        "\n",
        "# calcular a soma \n",
        "somaClose= 0.0\n",
        "for i in range(len(vClose)):\n",
        "  somaClose= somaClose + vClose[i]\n",
        "\n",
        "# Calcula a média\n",
        "media= somaClose / qtdeElementos\n",
        "\n",
        "# calcular desvio\n",
        "desvio= np.array([])\n",
        "for i in range(len(vClose)):\n",
        "  desvio= np.append(desvio, vClose[i] - media)\n",
        "\n",
        "quadradoDesvio= 0\n",
        "for i in range(len(desvio)):\n",
        "  quadradoDesvio= quadradoDesvio + desvio[i] ** 2"
      ],
      "metadata": {
        "id": "o8yXA0ym5wTT"
      },
      "execution_count": 251,
      "outputs": []
    },
    {
      "cell_type": "code",
      "source": [
        "warnings.filterwarnings(\"ignore\")\n",
        "print(\"----------- Informar a quantidade de diferenças desejadas -------------\")\n",
        "qtde = int(input(\"Quantidade desejada: \"))  "
      ],
      "metadata": {
        "colab": {
          "base_uri": "https://localhost:8080/"
        },
        "id": "jTsLwlolnkeU",
        "outputId": "34e25626-1f84-4127-cbb9-f8281e73c037"
      },
      "execution_count": 252,
      "outputs": [
        {
          "name": "stdout",
          "output_type": "stream",
          "text": [
            "----------- Informar a quantidade de diferenças desejadas -------------\n",
            "Quantidade desejada: 2\n"
          ]
        }
      ]
    },
    {
      "cell_type": "code",
      "source": [
        "print(\"###########################################\")\n",
        "print(\"Qtde elementos= \"+str(qtdeElementos))\n",
        "print(\"Média= \"+str(media))\n",
        "print(\"###########################################\")\n",
        "\n",
        "# Calcula e exibe a autocovariancia \n",
        "autoCov= []\n",
        "for i in range(qtde):\n",
        "  c= _getAutoCovariancia(vClose, desvio, i)\n",
        "  autoCov.append(c)\n",
        "  print(\"Autocovariancia\"+str(i)+\" (c\"+str(i)+\")= \"+str(c))\n",
        "\n",
        "print(\"###########################################\")  \n",
        "print(autoCov)\n",
        "# Calcula e exibe a autocorrelacao\n",
        "\n",
        "autoCorrelacao= 0.0\n",
        "for i in range(qtde):\n",
        "  if ( (i+1) < qtde):\n",
        "    r= _getAutoCorrelacao(autoCov[i], autoCov[i+1])\n",
        "    print(\"Autocorrelacao\"+str(i)+\" (r\"+str(i)+\")= \"+str(r))\n",
        "    autoCorrelacao= r\n",
        "\n",
        "print(\"###########################################\")  "
      ],
      "metadata": {
        "colab": {
          "base_uri": "https://localhost:8080/"
        },
        "id": "v6aUXrcpnOaJ",
        "outputId": "451ff91c-0a9b-4878-ecf9-d0310d126e32"
      },
      "execution_count": 255,
      "outputs": [
        {
          "output_type": "stream",
          "name": "stdout",
          "text": [
            "###########################################\n",
            "Qtde elementos= 246\n",
            "Média= 26.73337404514716\n",
            "###########################################\n",
            "Autocovariancia0 (c0)= 4.696742769541136\n",
            "Autocovariancia1 (c1)= 4.407563475712173\n",
            "###########################################\n",
            "[4.696742769541136, 4.407563475712173]\n",
            "Autocorrelacao0 (r0)= 0.9384298208315089\n",
            "###########################################\n"
          ]
        }
      ]
    },
    {
      "cell_type": "code",
      "source": [
        "dft = _PACF(df, qtde)\n",
        "dft.head(10)"
      ],
      "metadata": {
        "colab": {
          "base_uri": "https://localhost:8080/",
          "height": 244
        },
        "id": "swydpCUu8FJH",
        "outputId": "1992eaae-0e68-4f96-f338-ea5d06ba11dc"
      },
      "execution_count": 256,
      "outputs": [
        {
          "output_type": "execute_result",
          "data": {
            "text/html": [
              "<div>\n",
              "<style scoped>\n",
              "    .dataframe tbody tr th:only-of-type {\n",
              "        vertical-align: middle;\n",
              "    }\n",
              "\n",
              "    .dataframe tbody tr th {\n",
              "        vertical-align: top;\n",
              "    }\n",
              "\n",
              "    .dataframe thead th {\n",
              "        text-align: right;\n",
              "    }\n",
              "</style>\n",
              "<table border=\"1\" class=\"dataframe\">\n",
              "  <thead>\n",
              "    <tr style=\"text-align: right;\">\n",
              "      <th></th>\n",
              "      <th>date</th>\n",
              "      <th>close</th>\n",
              "      <th>T0</th>\n",
              "      <th>T1</th>\n",
              "      <th>T2</th>\n",
              "      <th>Predicted_T0_T1</th>\n",
              "      <th>Residual_T0_T1</th>\n",
              "      <th>Predicted_T1_T2</th>\n",
              "      <th>Residual_T1_T2</th>\n",
              "    </tr>\n",
              "  </thead>\n",
              "  <tbody>\n",
              "    <tr>\n",
              "      <th>1</th>\n",
              "      <td>2020-12-02, 00:00:00</td>\n",
              "      <td>25.910000</td>\n",
              "      <td>25.910000</td>\n",
              "      <td>25.910000</td>\n",
              "      <td>25.600000</td>\n",
              "      <td>25.910000</td>\n",
              "      <td>0.0</td>\n",
              "      <td>26.327578</td>\n",
              "      <td>-0.417578</td>\n",
              "    </tr>\n",
              "    <tr>\n",
              "      <th>2</th>\n",
              "      <td>2020-12-03, 00:00:00</td>\n",
              "      <td>26.639999</td>\n",
              "      <td>26.639999</td>\n",
              "      <td>26.639999</td>\n",
              "      <td>25.910000</td>\n",
              "      <td>26.639999</td>\n",
              "      <td>0.0</td>\n",
              "      <td>26.494835</td>\n",
              "      <td>0.145164</td>\n",
              "    </tr>\n",
              "    <tr>\n",
              "      <th>3</th>\n",
              "      <td>2020-12-04, 00:00:00</td>\n",
              "      <td>27.530001</td>\n",
              "      <td>27.530001</td>\n",
              "      <td>27.530001</td>\n",
              "      <td>26.639999</td>\n",
              "      <td>27.530001</td>\n",
              "      <td>0.0</td>\n",
              "      <td>26.888698</td>\n",
              "      <td>0.641303</td>\n",
              "    </tr>\n",
              "    <tr>\n",
              "      <th>4</th>\n",
              "      <td>2020-12-07, 00:00:00</td>\n",
              "      <td>27.000000</td>\n",
              "      <td>27.000000</td>\n",
              "      <td>27.000000</td>\n",
              "      <td>27.530001</td>\n",
              "      <td>27.000000</td>\n",
              "      <td>0.0</td>\n",
              "      <td>27.368888</td>\n",
              "      <td>-0.368888</td>\n",
              "    </tr>\n",
              "  </tbody>\n",
              "</table>\n",
              "</div>"
            ],
            "text/plain": [
              "                   date      close  ...  Predicted_T1_T2  Residual_T1_T2\n",
              "1  2020-12-02, 00:00:00  25.910000  ...        26.327578       -0.417578\n",
              "2  2020-12-03, 00:00:00  26.639999  ...        26.494835        0.145164\n",
              "3  2020-12-04, 00:00:00  27.530001  ...        26.888698        0.641303\n",
              "4  2020-12-07, 00:00:00  27.000000  ...        27.368888       -0.368888\n",
              "\n",
              "[4 rows x 9 columns]"
            ]
          },
          "metadata": {},
          "execution_count": 256
        }
      ]
    },
    {
      "cell_type": "markdown",
      "source": [
        "Com a Função de Autocorrelação Parcial (PACF) descobriremos o número necessário de termos AR inspecionando. E utilizaremos a autocorrelacao para identificar o número necessário de termos MA"
      ],
      "metadata": {
        "id": "ntOuiMOlY-bO"
      }
    },
    {
      "cell_type": "code",
      "source": [
        "# Calcula a acf e pacf\n",
        "lag_pacf = pacf(df.close, nlags=20, method='ols')\n",
        "numeroTermoAR = math.ceil(lag_pacf.sum())\n",
        "\n",
        "numeroTermoAR = math.ceil(lag_pacf.sum())\n",
        "numeroTermoMA = math.ceil(autoCorrelacao)\n",
        "\n",
        "print(\"----------- Verifica se a série é estacionária (KPSS test) -------------\")\n",
        "print(\" Número necessários de termos AR: %i\" % numeroTermoAR )\n",
        "print(\" Número necessários de termos MA: %i\" % numeroTermoMA )"
      ],
      "metadata": {
        "colab": {
          "base_uri": "https://localhost:8080/"
        },
        "id": "EZUn3DqIDXoH",
        "outputId": "fa31a444-7e0e-4722-d69d-5f220c269ffa"
      },
      "execution_count": 257,
      "outputs": [
        {
          "output_type": "stream",
          "name": "stdout",
          "text": [
            "----------- Verifica se a série é estacionária (KPSS test) -------------\n",
            " Número necessários de termos AR: 2\n",
            " Número necessários de termos MA: 1\n"
          ]
        }
      ]
    },
    {
      "cell_type": "code",
      "source": [
        "warnings.filterwarnings(\"ignore\")\n",
        "print(\"----------- Verifica se a série é estacionária (KPSS test)-------------\")\n",
        "p_value= _kpss_test(df.close)\n",
        "if p_value < 0.06:\n",
        "  print(\"A série não é estacionária\")\n",
        "\n",
        "else:\n",
        "  print(\"A série é estacionária (as características estatísticas média, variância e autocorrelação são constantes ao longo do tempo\")\n",
        "  print(\" \")\n",
        "  print(\"---------------------- Identificação do Modelo ----------------------\")\n",
        "  print(\" Indicação AR: %i\" % numeroTermoAR )\n",
        "  print(\" Indicação MA: %i\" % numeroTermoMA )\n",
        "  print(\"Informe os seguintes parâmentros: \")\n",
        "  p = int(input(\"Ordem do termo AR (p): \"))  \n",
        "  q = int(input(\"Ordem do termo MA (q): \"))  \n",
        "  d = int(input(\"N de diferenciação necessária para tornar a série temporal estacionária (d): \"))  \n"
      ],
      "metadata": {
        "colab": {
          "base_uri": "https://localhost:8080/"
        },
        "id": "LjJ-D7Bh2oBj",
        "outputId": "c154c8cd-e5c3-4cf0-fa3e-8a917c3ed7ea"
      },
      "execution_count": null,
      "outputs": [
        {
          "name": "stdout",
          "output_type": "stream",
          "text": [
            "----------- Verifica se a série é estacionária (KPSS test)-------------\n",
            "A série é estacionária (as características estatísticas média, variância e autocorrelação são constantes ao longo do tempo\n",
            " \n",
            "---------------------- Identificação do Modelo ----------------------\n",
            " Indicação AR: 2\n",
            " Indicação MA: 1\n",
            "Informe os seguintes parâmentros: \n",
            "Ordem do termo AR (p): 2\n",
            "Ordem do termo MA (q): 1\n",
            "N de diferenciação necessária para tornar a série temporal estacionária (d): 1\n"
          ]
        }
      ]
    },
    {
      "cell_type": "code",
      "source": [
        "#model = sm.tsa.ARIMA(df.close, order=(p,d,q))\n",
        "model = sm.tsa.ARIMA(df.close, order=(2,1,1))\n",
        "model_fit = model.fit()\n",
        "print(model_fit.summary())"
      ],
      "metadata": {
        "id": "zAubLTXBXf1u",
        "colab": {
          "base_uri": "https://localhost:8080/"
        },
        "outputId": "736ccd79-b392-4625-9b1c-80a56234f869"
      },
      "execution_count": null,
      "outputs": [
        {
          "output_type": "stream",
          "name": "stdout",
          "text": [
            "                             ARIMA Model Results                              \n",
            "==============================================================================\n",
            "Dep. Variable:                D.close   No. Observations:                  245\n",
            "Model:                 ARIMA(2, 1, 1)   Log Likelihood                -272.343\n",
            "Method:                       css-mle   S.D. of innovations              0.735\n",
            "Date:                Wed, 15 Dec 2021   AIC                            554.686\n",
            "Time:                        21:37:12   BIC                            572.193\n",
            "Sample:                             1   HQIC                           561.736\n",
            "                                                                              \n",
            "=================================================================================\n",
            "                    coef    std err          z      P>|z|      [0.025      0.975]\n",
            "---------------------------------------------------------------------------------\n",
            "const             0.0146      0.040      0.370      0.711      -0.063       0.092\n",
            "ar.L1.D.close     0.4011      0.530      0.756      0.450      -0.638       1.440\n",
            "ar.L2.D.close    -0.0475      0.079     -0.597      0.551      -0.203       0.108\n",
            "ma.L1.D.close    -0.4575      0.529     -0.865      0.388      -1.494       0.579\n",
            "                                    Roots                                    \n",
            "=============================================================================\n",
            "                  Real          Imaginary           Modulus         Frequency\n",
            "-----------------------------------------------------------------------------\n",
            "AR.1            4.2235           -1.7954j            4.5892           -0.0640\n",
            "AR.2            4.2235           +1.7954j            4.5892            0.0640\n",
            "MA.1            2.1856           +0.0000j            2.1856            0.0000\n",
            "-----------------------------------------------------------------------------\n"
          ]
        }
      ]
    },
    {
      "cell_type": "markdown",
      "metadata": {
        "id": "o-Ugy42YKoDz"
      },
      "source": [
        "# CHECAGEM"
      ]
    }
  ]
}